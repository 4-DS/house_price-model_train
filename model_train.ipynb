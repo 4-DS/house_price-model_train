{
 "cells": [
  {
   "cell_type": "code",
   "execution_count": null,
   "id": "870a1090-f4ae-45a0-aa93-0960f5c6478d",
   "metadata": {
    "tags": []
   },
   "outputs": [],
   "source": [
    "%load_ext autoreload\n",
    "%autoreload 2"
   ]
  },
  {
   "cell_type": "code",
   "execution_count": null,
   "id": "453c78e8-6822-4123-bf9d-ed1ae9dd7bea",
   "metadata": {
    "tags": [
     "parameters"
    ]
   },
   "outputs": [],
   "source": [
    "# specify substep parameters for interactive run\n",
    "# this cell will be replaced during job run with the parameters from json within params subfolder\n",
    "substep_params={\n",
    "}"
   ]
  },
  {
   "cell_type": "code",
   "execution_count": null,
   "id": "1d78d47a-c7bb-41ea-8b5a-9881d222f605",
   "metadata": {},
   "outputs": [],
   "source": [
    "# load pipeline and step parameters - do not edit\n",
    "from sinara.substep import get_pipeline_params, get_step_params\n",
    "pipeline_params = get_pipeline_params(pprint=True)\n",
    "step_params = get_step_params(pprint=True)"
   ]
  },
  {
   "cell_type": "code",
   "execution_count": null,
   "id": "f3818420-6085-43ea-b97e-578742794e1e",
   "metadata": {
    "tags": []
   },
   "outputs": [],
   "source": [
    "#3 define substep interface\n",
    "from sinara.substep import NotebookSubstep, ENV_NAME, PIPELINE_NAME, ZONE_NAME, STEP_NAME, RUN_ID, ENTITY_NAME, ENTITY_PATH, SUBSTEP_NAME\n",
    "\n",
    "substep = NotebookSubstep(pipeline_params, step_params, substep_params)\n",
    "\n",
    "substep.interface(\n",
    "   \n",
    "    inputs =\n",
    "    [\n",
    "        { STEP_NAME: \"data_prep\", ENTITY_NAME: \"df_X_train\" },\n",
    "        { STEP_NAME: \"data_prep\", ENTITY_NAME: \"df_Y_train\" },\n",
    "        { STEP_NAME: \"data_prep\", ENTITY_NAME: \"df_X_eval\" },\n",
    "        { STEP_NAME: \"data_prep\", ENTITY_NAME: \"df_Y_eval\" },\n",
    "        { STEP_NAME: \"data_prep\", ENTITY_NAME: \"df_X_test\" },\n",
    "        { STEP_NAME: \"data_prep\", ENTITY_NAME: \"df_Y_test\" }\n",
    "    ],\n",
    "    outputs = \n",
    "    [\n",
    "        { ENTITY_NAME: \"bento_service\" },\n",
    "    ]\n",
    ")\n",
    "\n",
    "substep.print_interface_info()\n",
    "\n",
    "substep.exit_in_visualize_mode()"
   ]
  },
  {
   "cell_type": "code",
   "execution_count": null,
   "id": "55e950c3-3151-4daf-9b98-83d3aebe216d",
   "metadata": {
    "tags": []
   },
   "outputs": [],
   "source": [
    "#4 run spark\n",
    "from sinara.spark import SinaraSpark\n",
    "\n",
    "spark = SinaraSpark.run_session(0)\n",
    "SinaraSpark.ui_url()"
   ]
  },
  {
   "cell_type": "code",
   "execution_count": null,
   "id": "70b2d9b3-051c-424c-beec-9da8f177b4ed",
   "metadata": {
    "tags": []
   },
   "outputs": [],
   "source": [
    "#5 read inputs \n",
    "prev_step_inputs = substep.inputs(step_name=\"data_prep\")\n",
    "\n",
    "df_X_train = spark.read.parquet(prev_step_inputs.df_X_train).to_pandas_on_spark()\n",
    "df_Y_train = spark.read.parquet(prev_step_inputs.df_Y_train).to_pandas_on_spark()\n",
    "df_X_eval = spark.read.parquet(prev_step_inputs.df_X_eval).to_pandas_on_spark()\n",
    "df_Y_eval = spark.read.parquet(prev_step_inputs.df_Y_eval).to_pandas_on_spark()\n",
    "df_X_test = spark.read.parquet(prev_step_inputs.df_X_test).to_pandas_on_spark()\n",
    "df_Y_test = spark.read.parquet(prev_step_inputs.df_Y_test).to_pandas_on_spark()"
   ]
  },
  {
   "cell_type": "code",
   "execution_count": null,
   "id": "04f8c516-079f-4473-8564-1cf66344872c",
   "metadata": {
    "tags": []
   },
   "outputs": [],
   "source": [
    "#6 Train the model predicting median house price (MEDV)\n",
    "from sklearn.ensemble import GradientBoostingRegressor\n",
    "from sklearn.metrics import root_mean_squared_error\n",
    "\n",
    "reg = GradientBoostingRegressor(random_state=239)\n",
    "reg.fit(df_X_train.values, df_Y_train.values)"
   ]
  },
  {
   "cell_type": "code",
   "execution_count": null,
   "id": "f8197398-8097-425c-8fa3-798fe6dfdb60",
   "metadata": {},
   "outputs": [],
   "source": [
    "#7 check trained model quality on eval dataset using RMSE\n",
    "rmse = root_mean_squared_error(df_Y_eval.values, reg.predict(df_X_eval.values))\n",
    "print(\"The root mean squared error (RMSE) on eval set: {:.4f}\".format(rmse))"
   ]
  },
  {
   "cell_type": "code",
   "execution_count": null,
   "id": "47c68c69-46d1-48d0-a239-fac8bf36c6fa",
   "metadata": {
    "tags": []
   },
   "outputs": [],
   "source": [
    "#8 create and save a bentoservice\n",
    "from model_service import ModelService\n",
    "from sinara.bentoml import save_bentoservice\n",
    "\n",
    "outputs = substep.outputs()\n",
    "test_data = {}\n",
    "test_data['X'] = df_X_test.to_dict(orient='records')\n",
    "test_data['Y'] = df_Y_test.to_dict(orient='records')\n",
    "\n",
    "model = ModelService()\n",
    "model.pack('model', reg)\n",
    "model.pack('test_data', test_data)\n",
    "\n",
    "save_bentoservice(model, path=outputs.bento_service, substep=substep)"
   ]
  },
  {
   "cell_type": "code",
   "execution_count": null,
   "id": "82ef2430-57f2-42f4-a435-f50e1edd2c0b",
   "metadata": {
    "tags": []
   },
   "outputs": [],
   "source": [
    "#8 stop spark\n",
    "SinaraSpark.stop_session()"
   ]
  },
  {
   "cell_type": "code",
   "execution_count": null,
   "id": "d0ed54e4-89be-459f-9f55-e6685745686d",
   "metadata": {},
   "outputs": [],
   "source": []
  }
 ],
 "metadata": {
  "kernelspec": {
   "display_name": "ml",
   "language": "python",
   "name": "python3"
  },
  "language_info": {
   "codemirror_mode": {
    "name": "ipython",
    "version": 3
   },
   "file_extension": ".py",
   "mimetype": "text/x-python",
   "name": "python",
   "nbconvert_exporter": "python",
   "pygments_lexer": "ipython3",
   "version": "3.10.12"
  }
 },
 "nbformat": 4,
 "nbformat_minor": 5
}
